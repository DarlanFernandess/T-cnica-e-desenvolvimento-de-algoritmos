{
  "nbformat": 4,
  "nbformat_minor": 0,
  "metadata": {
    "colab": {
      "provenance": [],
      "authorship_tag": "ABX9TyNVobpmpX5s/vJ5GGE/RR0j",
      "include_colab_link": true
    },
    "kernelspec": {
      "name": "python3",
      "display_name": "Python 3"
    },
    "language_info": {
      "name": "python"
    }
  },
  "cells": [
    {
      "cell_type": "markdown",
      "metadata": {
        "id": "view-in-github",
        "colab_type": "text"
      },
      "source": [
        "<a href=\"https://colab.research.google.com/github/DarlanFernandess/T-cnica-e-desenvolvimento-de-algoritmos/blob/main/Aula1_UDF_DarlanFernandes.ipynb\" target=\"_parent\"><img src=\"https://colab.research.google.com/assets/colab-badge.svg\" alt=\"Open In Colab\"/></a>"
      ]
    },
    {
      "cell_type": "markdown",
      "source": [
        "Nome: Darlan Fernandes\n",
        "\n",
        "Turma: ADS\n",
        "\n",
        "![download.jpg](data:image/jpeg;base64,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)"
      ],
      "metadata": {
        "id": "X5fhCfWiAlR3"
      }
    },
    {
      "cell_type": "code",
      "source": [
        " print(\"Hello World\")"
      ],
      "metadata": {
        "colab": {
          "base_uri": "https://localhost:8080/"
        },
        "id": "dtxfk9djCj4Z",
        "outputId": "7e716003-2d9f-458b-b7c0-f1eb74133d99"
      },
      "execution_count": null,
      "outputs": [
        {
          "output_type": "stream",
          "name": "stdout",
          "text": [
            "Hello World\n"
          ]
        }
      ]
    },
    {
      "cell_type": "code",
      "source": [
        "#utilizar python como cálculadora\n",
        "\n",
        "...\n",
        "\n",
        "...\n",
        "print()\n",
        "a=2\n",
        "30*5+a-2"
      ],
      "metadata": {
        "colab": {
          "base_uri": "https://localhost:8080/"
        },
        "id": "dsNRCG1LD5Vl",
        "outputId": "a7612f4c-7997-4404-cd13-fb31f6729088"
      },
      "execution_count": 54,
      "outputs": [
        {
          "output_type": "stream",
          "name": "stdout",
          "text": [
            "\n"
          ]
        },
        {
          "output_type": "execute_result",
          "data": {
            "text/plain": [
              "150"
            ]
          },
          "metadata": {},
          "execution_count": 54
        }
      ]
    },
    {
      "cell_type": "code",
      "source": [
        "# / é diferente de //\n",
        "8//9"
      ],
      "metadata": {
        "colab": {
          "base_uri": "https://localhost:8080/"
        },
        "id": "_j5JyFiAGJ0H",
        "outputId": "7223ab15-e14b-45ca-b07b-7a222b641e1c"
      },
      "execution_count": null,
      "outputs": [
        {
          "output_type": "execute_result",
          "data": {
            "text/plain": [
              "0"
            ]
          },
          "metadata": {},
          "execution_count": 18
        }
      ]
    },
    {
      "cell_type": "markdown",
      "source": [
        "#01.Escreva um progama que apresenta na tela a frase: \"Meu primeiro programa!!!\""
      ],
      "metadata": {
        "id": "v8PO2Zf-v98Z"
      }
    },
    {
      "cell_type": "code",
      "source": [
        "print(\"Meu primeiro programa\")"
      ],
      "metadata": {
        "colab": {
          "base_uri": "https://localhost:8080/"
        },
        "id": "lrLIfCV1AI1s",
        "outputId": "9ad542ad-139d-4a8c-db3d-8025dc83be9a"
      },
      "execution_count": 53,
      "outputs": [
        {
          "output_type": "stream",
          "name": "stdout",
          "text": [
            "Meu primeiro programa\n"
          ]
        }
      ]
    },
    {
      "cell_type": "markdown",
      "source": [
        "02.Escreva um programa que solicite ao usuário um número inteiro e ao final apresente na tela o número informado pelo usuário do programa."
      ],
      "metadata": {
        "id": "5vISfDuNwOw9"
      }
    },
    {
      "cell_type": "code",
      "source": [
        "numero = int(input(\"Digite o número inteiro:\"))\n",
        "print(\"O número informado foi {10}\")"
      ],
      "metadata": {
        "colab": {
          "base_uri": "https://localhost:8080/"
        },
        "id": "freFv1q3Aeai",
        "outputId": "cd638e79-8cd4-44de-c3d9-4d21095d95db"
      },
      "execution_count": 69,
      "outputs": [
        {
          "output_type": "stream",
          "name": "stdout",
          "text": [
            "Digite o número inteiro:30\n",
            "O número informado foi {numero}\n"
          ]
        }
      ]
    },
    {
      "cell_type": "markdown",
      "source": [
        "03.Escreva um programa que solicite ao usuário um número inteiro e ao final apresente na tela o número informado da seguinte forma ;\"Foi informado o valor:X\""
      ],
      "metadata": {
        "id": "Y4Gcj23OwlPX"
      }
    },
    {
      "cell_type": "code",
      "source": [
        "numero = int(input(\"Digite um número inteiro: \"))\n",
        "print(\"Foi informado o valor:\", numero)"
      ],
      "metadata": {
        "colab": {
          "base_uri": "https://localhost:8080/"
        },
        "id": "t7cchCudDMIP",
        "outputId": "e03e27b2-c6c5-438e-ac32-dff017812999"
      },
      "execution_count": 70,
      "outputs": [
        {
          "output_type": "stream",
          "name": "stdout",
          "text": [
            "Digite um número inteiro: 15\n",
            "Foi informado o valor: 15\n"
          ]
        }
      ]
    },
    {
      "cell_type": "markdown",
      "source": [
        "04.Escreva um programa que solicite ao usuário números inteiros e ao final apresente na tela os dois números informdos na seguinte forma \" você informou os numeros X e Y\""
      ],
      "metadata": {
        "id": "aMoh9kO80hEd"
      }
    },
    {
      "cell_type": "code",
      "source": [
        "num1 = int(input(\"Digite o primeiro número inteiro: \"))\n",
        "num2 = int(input(\"Digite o segundo número inteiro: \"))\n",
        "print(f\"Você informou os números {num1} e {num2}\")"
      ],
      "metadata": {
        "colab": {
          "base_uri": "https://localhost:8080/"
        },
        "id": "_87XFhNhD1yL",
        "outputId": "a9533aae-e040-4042-85fc-fa8ab550c300"
      },
      "execution_count": 71,
      "outputs": [
        {
          "output_type": "stream",
          "name": "stdout",
          "text": [
            "Digite o primeiro número inteiro: 3\n",
            "Digite o segundo número inteiro: 3\n",
            "Você informou os números 3 e 3\n"
          ]
        }
      ]
    },
    {
      "cell_type": "markdown",
      "source": [
        "05.Escreva um programa que solicite ao usuário um número real e ao final apresente na tela o número informado formatado com duas casas decimais da seguinte forma:\"Você informou o número X.YY\""
      ],
      "metadata": {
        "id": "BThUumwJ6THU"
      }
    },
    {
      "cell_type": "code",
      "source": [
        "numero_real = float(input(\"Digite um número real: \"))\n",
        "print(f\"Você informou o número {numero_real:.2f}\")"
      ],
      "metadata": {
        "colab": {
          "base_uri": "https://localhost:8080/"
        },
        "id": "s9vYZDXo9Kw1",
        "outputId": "ec5fd92e-936f-4b72-eac8-47f16e6875ab"
      },
      "execution_count": 65,
      "outputs": [
        {
          "output_type": "stream",
          "name": "stdout",
          "text": [
            "Digite um número real: 13\n",
            "Você informou o número 13.00\n"
          ]
        }
      ]
    },
    {
      "cell_type": "markdown",
      "source": [
        "06.Escreva um programa que solicite ao usuário a temperatura em graus Celsius e ao final apresente a temperatura correspondente em graus farenheit. F=Celsius * 1.8 + 32."
      ],
      "metadata": {
        "id": "Rv2aacIhz_XF"
      }
    },
    {
      "cell_type": "code",
      "source": [
        "celsius = float (input(\"Informe o grau celsius\"))\n",
        "farenreit = (celsius*1.8)+32\n",
        "print(\"A temperatura em farebreit é \",farenreit)"
      ],
      "metadata": {
        "colab": {
          "base_uri": "https://localhost:8080/"
        },
        "id": "hzwStZa5zCP9",
        "outputId": "9aebe3bc-1a7b-497a-a164-995f084cd10c"
      },
      "execution_count": 10,
      "outputs": [
        {
          "output_type": "stream",
          "name": "stdout",
          "text": [
            "Informe o grau celsius23\n",
            "A temperatura em farebreit é  73.4\n"
          ]
        }
      ]
    },
    {
      "cell_type": "markdown",
      "source": [
        "07.Escreva um programa que solicite ao usuário um número inteiro e um número reale ao final apresente na tela os dois números informados formatando com duas casas decimais somente o número real da seguinte forma \"Você informou os numeros N e X.YY\""
      ],
      "metadata": {
        "id": "b_f6kYIy66Ym"
      }
    },
    {
      "cell_type": "code",
      "source": [
        "inteiro = int(input(\"Digite um número inteiro: \"))\n",
        "real = float(input(\"Digite um número real: \"))\n",
        "print(f\"Você informou os números {inteiro} e {real:.2f}\")"
      ],
      "metadata": {
        "colab": {
          "base_uri": "https://localhost:8080/"
        },
        "id": "-4QGrWkdEQ9j",
        "outputId": "20631988-8539-4a87-9fe6-83dadc613f1f"
      },
      "execution_count": 72,
      "outputs": [
        {
          "output_type": "stream",
          "name": "stdout",
          "text": [
            "Digite um número inteiro: 3\n",
            "Digite um número real: 3\n",
            "Você informou os números 3 e 3.00\n"
          ]
        }
      ]
    },
    {
      "cell_type": "markdown",
      "source": [
        "08.Escreva um programa que solicite ao usuário a primeira letra de seu nome ao final apresente na tela a letra informada pelo usuário da seguinte forma \"Você digitou W\""
      ],
      "metadata": {
        "id": "39MWywmp7qtI"
      }
    },
    {
      "cell_type": "code",
      "source": [
        "letra = input(\"Digite a primeira letra do seu nome: \")\n",
        "print(f\"Você digitou {letra}\")"
      ],
      "metadata": {
        "colab": {
          "base_uri": "https://localhost:8080/"
        },
        "id": "U1vO8igjEVvr",
        "outputId": "5e3d4bf9-9610-4e04-fbd5-0134680f049b"
      },
      "execution_count": 73,
      "outputs": [
        {
          "output_type": "stream",
          "name": "stdout",
          "text": [
            "Digite a primeira letra do seu nome: w\n",
            "Você digitou w\n"
          ]
        }
      ]
    },
    {
      "cell_type": "markdown",
      "source": [
        "09.Escreva um programa que solicite ao usuário o nome de sua cor preferida e ao final apresente na tela a cor informada pelo usuário da seguinte forma \" Você gosta da cor AAA\""
      ],
      "metadata": {
        "id": "VXYzXcdy8O05"
      }
    },
    {
      "cell_type": "code",
      "source": [
        "cor = input(\"Digite o nome da sua cor preferida: \")\n",
        "print(f\"Você gosta da cor {cor}\")"
      ],
      "metadata": {
        "colab": {
          "base_uri": "https://localhost:8080/"
        },
        "id": "oiqrAWhPEgt-",
        "outputId": "e3336b1a-893d-4581-95a7-dc440f4d570a"
      },
      "execution_count": 74,
      "outputs": [
        {
          "output_type": "stream",
          "name": "stdout",
          "text": [
            "Digite o nome da sua cor preferida: verde\n",
            "Você gosta da cor verde\n"
          ]
        }
      ]
    },
    {
      "cell_type": "markdown",
      "source": [
        "10.Escreva um programa que solicite ao usuário o nome de uma verdura e uma fruta de sua\n",
        "preferencia e ao final apresente na tela as informações digitadas pelo usuário da seguinte\n",
        "forma: \"Voce gosta de AAAAAAA e BBBBBBB\""
      ],
      "metadata": {
        "id": "ozeqkViM8oAc"
      }
    },
    {
      "cell_type": "code",
      "source": [
        "verdura = input(\"Digite o nome de uma verdura que você gosta: \")\n",
        "fruta = input(\"Digite o nome de uma fruta que você gosta: \")\n",
        "print(f\"Você gosta de {verdura} e {fruta}\")"
      ],
      "metadata": {
        "colab": {
          "base_uri": "https://localhost:8080/"
        },
        "id": "3CtkUHT8ExPF",
        "outputId": "b3b4ce32-d41e-4fa5-8faa-6d237de602f5"
      },
      "execution_count": 75,
      "outputs": [
        {
          "output_type": "stream",
          "name": "stdout",
          "text": [
            "Digite o nome de uma verdura que você gosta: beterraba\n",
            "Digite o nome de uma fruta que você gosta: maçã\n",
            "Você gosta de beterraba e maçã\n"
          ]
        }
      ]
    },
    {
      "cell_type": "markdown",
      "source": [
        "11.Elabore um algoritmo que solicite ao usuário um número real e ao final imprima na tela o\n",
        "numero informado e na linha de baixo o dobro deste número da seguinte forma:\n",
        "Numero -> X\n",
        "Dobro deste numero -> Y"
      ],
      "metadata": {
        "id": "Fl_BAZxq_jjt"
      }
    },
    {
      "cell_type": "code",
      "source": [
        "numero = float(input(\"Digite um número real: \"))\n",
        "dobro = numero * 2\n",
        "print(f\"Numero -> {numero}\")\n",
        "print(f\"Dobro deste numero -> {dobro}\")"
      ],
      "metadata": {
        "colab": {
          "base_uri": "https://localhost:8080/"
        },
        "id": "MtXYULioFABm",
        "outputId": "acb44513-3d07-4ef0-c9b0-2a11bac4106a"
      },
      "execution_count": 77,
      "outputs": [
        {
          "output_type": "stream",
          "name": "stdout",
          "text": [
            "Digite um número real: 20\n",
            "Numero -> 20.0\n",
            "Dobro deste numero -> 40.0\n"
          ]
        }
      ]
    },
    {
      "cell_type": "markdown",
      "source": [
        "12.Reescrever o programa anterior apresentando o quadrado e o cubo do número informado"
      ],
      "metadata": {
        "id": "GQSH3EHL_pK0"
      }
    },
    {
      "cell_type": "code",
      "source": [
        "numero = float(input(\"Digite um número real: \"))\n",
        "quadrado = numero ** 2\n",
        "cubo = numero ** 3\n",
        "print(f\"Numero -> {numero}\")\n",
        "print(f\"Quadrado deste numero -> {quadrado}\")\n",
        "print(f\"Cubo deste numero -> {cubo}\")"
      ],
      "metadata": {
        "colab": {
          "base_uri": "https://localhost:8080/"
        },
        "id": "z3Mxuw9zFYdg",
        "outputId": "b39b01a4-588b-44a5-f3c4-98f82f3a7eed"
      },
      "execution_count": 78,
      "outputs": [
        {
          "output_type": "stream",
          "name": "stdout",
          "text": [
            "Digite um número real: 13\n",
            "Numero -> 13.0\n",
            "Quadrado deste numero -> 169.0\n",
            "Cubo deste numero -> 2197.0\n"
          ]
        }
      ]
    },
    {
      "cell_type": "markdown",
      "source": [
        "13.Escreva um programa que solicite ao usuário dois números inteiros e ao final apresente\n",
        "na tela a soma dos dois números informados da seguinte forma: \"O numeros N e X\n",
        "somados correspondem a Y\""
      ],
      "metadata": {
        "id": "LiuCRzm8_tA7"
      }
    },
    {
      "cell_type": "code",
      "source": [
        "num1 = int(input(\"Digite o primeiro número inteiro: \"))\n",
        "num2 = int(input(\"Digite o segundo número inteiro: \"))\n",
        "soma = num1 + num2\n",
        "print(f\"Os números {num1} e {num2} somados correspondem a {soma}\")"
      ],
      "metadata": {
        "colab": {
          "base_uri": "https://localhost:8080/"
        },
        "id": "Gg7X6n1AFk-w",
        "outputId": "8696500c-c530-436f-8328-ce6d51919f10"
      },
      "execution_count": 79,
      "outputs": [
        {
          "output_type": "stream",
          "name": "stdout",
          "text": [
            "Digite o primeiro número inteiro: 30\n",
            "Digite o segundo número inteiro: 30\n",
            "Os números 30 e 30 somados correspondem a 60\n"
          ]
        }
      ]
    },
    {
      "cell_type": "markdown",
      "source": [
        "14.Escreva um programa que solicite ao usuário dois números reais e ao final apresente na\n",
        "tela o produto dos dois números informados da seguinte forma: \"O produto dos numeros N\n",
        "e X corresponde a Y\""
      ],
      "metadata": {
        "id": "SN2CEGW9_xek"
      }
    },
    {
      "cell_type": "code",
      "source": [
        "num1 = float(input(\"Digite o primeiro número real: \"))\n",
        "num2 = float(input(\"Digite o segundo número real: \"))\n",
        "produto = num1 * num2\n",
        "print(f\"O produto dos números {num1} e {num2} corresponde a {produto}\")"
      ],
      "metadata": {
        "colab": {
          "base_uri": "https://localhost:8080/"
        },
        "id": "5JNxAPqmFzXR",
        "outputId": "9a8c0cdc-a028-4b07-b65e-58dcf4f66de5"
      },
      "execution_count": 80,
      "outputs": [
        {
          "output_type": "stream",
          "name": "stdout",
          "text": [
            "Digite o primeiro número real: 10\n",
            "Digite o segundo número real: 10\n",
            "O produto dos números 10.0 e 10.0 corresponde a 100.0\n"
          ]
        }
      ]
    },
    {
      "cell_type": "markdown",
      "source": [
        "15.Refazer o programa 14 realizando as quatro operações aritméticas básicas"
      ],
      "metadata": {
        "id": "WL7fSxxF_1zM"
      }
    },
    {
      "cell_type": "code",
      "source": [
        "num1 = float(input(\"Digite o primeiro número real: \"))\n",
        "num2 = float(input(\"Digite o segundo número real: \"))\n",
        "soma = num1 + num2\n",
        "subtracao = num1 - num2\n",
        "produto = num1 * num2\n",
        "if num2 != 0:\n",
        "    divisao = num1 / num2\n",
        "else:\n",
        "    divisao = \"Indefinida (divisão por zero)\"\n",
        "print(f\"Soma: {num1} + {num2} = {soma}\")\n",
        "print(f\"Subtração: {num1} - {num2} = {subtracao}\")\n",
        "print(f\"Multiplicação: {num1} * {num2} = {produto}\")\n",
        "print(f\"Divisão: {num1} / {num2} = {divisao}\")"
      ],
      "metadata": {
        "colab": {
          "base_uri": "https://localhost:8080/"
        },
        "id": "wdI9LQwgGGoh",
        "outputId": "b6d52572-7d2d-4cef-c997-be10ec95495e"
      },
      "execution_count": 81,
      "outputs": [
        {
          "output_type": "stream",
          "name": "stdout",
          "text": [
            "Digite o primeiro número real: 10\n",
            "Digite o segundo número real: 10\n",
            "Soma: 10.0 + 10.0 = 20.0\n",
            "Subtração: 10.0 - 10.0 = 0.0\n",
            "Multiplicação: 10.0 * 10.0 = 100.0\n",
            "Divisão: 10.0 / 10.0 = 1.0\n"
          ]
        }
      ]
    },
    {
      "cell_type": "markdown",
      "source": [
        "16.Escreva um programa que solicite o valor fixo do salário de um vendedor, o total vendido\n",
        "no mês e o percentual de comissão do vendedor. Ao final apresentar o salário bruto."
      ],
      "metadata": {
        "id": "rKszAXrA_7r8"
      }
    },
    {
      "cell_type": "code",
      "source": [
        "salario_fixo = float(input(\"Digite o valor fixo do salário do vendedor: \"))\n",
        "total_vendido = float(input(\"Digite o total vendido no mês: \"))\n",
        "percentual_comissao = float(input(\"Digite o percentual de comissão (ex: 5 para 5%): \"))\n",
        "comissao = total_vendido * (percentual_comissao / 100)\n",
        "salario_bruto = salario_fixo + comissao\n",
        "print(f\"O salário bruto do vendedor é: {salario_bruto:.2f}\")"
      ],
      "metadata": {
        "colab": {
          "base_uri": "https://localhost:8080/"
        },
        "id": "0kZ07Nb4GRoD",
        "outputId": "d39886b1-1695-49da-cafe-cde56e089743"
      },
      "execution_count": 82,
      "outputs": [
        {
          "output_type": "stream",
          "name": "stdout",
          "text": [
            "Digite o valor fixo do salário do vendedor: 100\n",
            "Digite o total vendido no mês: 100\n",
            "Digite o percentual de comissão (ex: 5 para 5%): 100\n",
            "O salário bruto do vendedor é: 200.00\n"
          ]
        }
      ]
    },
    {
      "cell_type": "code",
      "source": [
        "raio=float(input(\"Informe o raio:\"))\n",
        "pi=3.141516\n",
        "A = pi * (raio * raio)\n",
        "print(\"a aréa é:\",A)"
      ],
      "metadata": {
        "colab": {
          "base_uri": "https://localhost:8080/"
        },
        "id": "KefPDWX31SJI",
        "outputId": "0a23d461-8373-4119-85bf-78e51507437e"
      },
      "execution_count": 33,
      "outputs": [
        {
          "output_type": "stream",
          "name": "stdout",
          "text": [
            "Informe o raio:20\n",
            "a aréa é: 1256.6064000000001\n"
          ]
        }
      ]
    }
  ]
}